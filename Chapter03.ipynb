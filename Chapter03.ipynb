{
 "cells": [
  {
   "cell_type": "markdown",
   "metadata": {},
   "source": [
    "**Numpy** stands for Numerical Python. It provides an efficient interface to store and operate on \n",
    "dense data buffers.\n",
    "\n",
    "**Dataset** can come from a wide range of sources and in a wide range of formats such as collections of sounds, collections of images and so on. But despite this apparent heterogeneity,\n",
    "many datasets can be represented fundamentally as arrays of numbers.\n",
    "\n",
    "**For this reason,** efficient storage and manipulation of numerical arrays is absolutely fundamental to the process of doing **data science**."
   ]
  }
 ],
 "metadata": {
  "kernelspec": {
   "display_name": "Python 3",
   "language": "python",
   "name": "python3"
  },
  "language_info": {
   "codemirror_mode": {
    "name": "ipython",
    "version": 3
   },
   "file_extension": ".py",
   "mimetype": "text/x-python",
   "name": "python",
   "nbconvert_exporter": "python",
   "pygments_lexer": "ipython3",
   "version": "3.10.11"
  }
 },
 "nbformat": 4,
 "nbformat_minor": 2
}
